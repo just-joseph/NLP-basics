{
  "nbformat": 4,
  "nbformat_minor": 0,
  "metadata": {
    "colab": {
      "name": "Day2- NLTK operations, Tfidf, BoW, basic text classification.ipynb",
      "provenance": [],
      "authorship_tag": "ABX9TyODF2j/1ytYM5iFCmKFwhzG",
      "include_colab_link": true
    },
    "kernelspec": {
      "name": "python3",
      "display_name": "Python 3"
    },
    "language_info": {
      "name": "python"
    }
  },
  "cells": [
    {
      "cell_type": "markdown",
      "metadata": {
        "id": "view-in-github",
        "colab_type": "text"
      },
      "source": [
        "<a href=\"https://colab.research.google.com/github/just-joseph/NLP-basics/blob/main/Day2_NLTK_operations.ipynb\" target=\"_parent\"><img src=\"https://colab.research.google.com/assets/colab-badge.svg\" alt=\"Open In Colab\"/></a>"
      ]
    },
    {
      "cell_type": "markdown",
      "metadata": {
        "id": "Coj55H-_Y2FG"
      },
      "source": [
        "### Basic NLTK Operations"
      ]
    },
    {
      "cell_type": "code",
      "metadata": {
        "id": "fKzUyj6N-Jw_"
      },
      "source": [
        "import nltk                                # Python library for NLP\n",
        "from nltk.corpus import twitter_samples    # sample Twitter dataset from NLTK\n",
        "import matplotlib.pyplot as plt            # library for visualization\n",
        "import random                              # pseudo-random number generator"
      ],
      "execution_count": 1,
      "outputs": []
    },
    {
      "cell_type": "markdown",
      "metadata": {
        "id": "n26DXfuZY9QE"
      },
      "source": [
        "Download the book corpus from nltk"
      ]
    },
    {
      "cell_type": "code",
      "metadata": {
        "colab": {
          "base_uri": "https://localhost:8080/"
        },
        "id": "gMoMfFJlR3QJ",
        "outputId": "560cd3a2-6644-4abd-bc00-60d766ff5514"
      },
      "source": [
        "nltk.download('book')"
      ],
      "execution_count": 2,
      "outputs": [
        {
          "output_type": "stream",
          "text": [
            "[nltk_data] Downloading collection 'book'\n",
            "[nltk_data]    | \n",
            "[nltk_data]    | Downloading package abc to /root/nltk_data...\n",
            "[nltk_data]    |   Unzipping corpora/abc.zip.\n",
            "[nltk_data]    | Downloading package brown to /root/nltk_data...\n",
            "[nltk_data]    |   Unzipping corpora/brown.zip.\n",
            "[nltk_data]    | Downloading package chat80 to /root/nltk_data...\n",
            "[nltk_data]    |   Unzipping corpora/chat80.zip.\n",
            "[nltk_data]    | Downloading package cmudict to /root/nltk_data...\n",
            "[nltk_data]    |   Unzipping corpora/cmudict.zip.\n",
            "[nltk_data]    | Downloading package conll2000 to /root/nltk_data...\n",
            "[nltk_data]    |   Unzipping corpora/conll2000.zip.\n",
            "[nltk_data]    | Downloading package conll2002 to /root/nltk_data...\n",
            "[nltk_data]    |   Unzipping corpora/conll2002.zip.\n",
            "[nltk_data]    | Downloading package dependency_treebank to\n",
            "[nltk_data]    |     /root/nltk_data...\n",
            "[nltk_data]    |   Unzipping corpora/dependency_treebank.zip.\n",
            "[nltk_data]    | Downloading package genesis to /root/nltk_data...\n",
            "[nltk_data]    |   Unzipping corpora/genesis.zip.\n",
            "[nltk_data]    | Downloading package gutenberg to /root/nltk_data...\n",
            "[nltk_data]    |   Unzipping corpora/gutenberg.zip.\n",
            "[nltk_data]    | Downloading package ieer to /root/nltk_data...\n",
            "[nltk_data]    |   Unzipping corpora/ieer.zip.\n",
            "[nltk_data]    | Downloading package inaugural to /root/nltk_data...\n",
            "[nltk_data]    |   Unzipping corpora/inaugural.zip.\n",
            "[nltk_data]    | Downloading package movie_reviews to\n",
            "[nltk_data]    |     /root/nltk_data...\n",
            "[nltk_data]    |   Unzipping corpora/movie_reviews.zip.\n",
            "[nltk_data]    | Downloading package nps_chat to /root/nltk_data...\n",
            "[nltk_data]    |   Unzipping corpora/nps_chat.zip.\n",
            "[nltk_data]    | Downloading package names to /root/nltk_data...\n",
            "[nltk_data]    |   Unzipping corpora/names.zip.\n",
            "[nltk_data]    | Downloading package ppattach to /root/nltk_data...\n",
            "[nltk_data]    |   Unzipping corpora/ppattach.zip.\n",
            "[nltk_data]    | Downloading package reuters to /root/nltk_data...\n",
            "[nltk_data]    | Downloading package senseval to /root/nltk_data...\n",
            "[nltk_data]    |   Unzipping corpora/senseval.zip.\n",
            "[nltk_data]    | Downloading package state_union to /root/nltk_data...\n",
            "[nltk_data]    |   Unzipping corpora/state_union.zip.\n",
            "[nltk_data]    | Downloading package stopwords to /root/nltk_data...\n",
            "[nltk_data]    |   Unzipping corpora/stopwords.zip.\n",
            "[nltk_data]    | Downloading package swadesh to /root/nltk_data...\n",
            "[nltk_data]    |   Unzipping corpora/swadesh.zip.\n",
            "[nltk_data]    | Downloading package timit to /root/nltk_data...\n",
            "[nltk_data]    |   Unzipping corpora/timit.zip.\n",
            "[nltk_data]    | Downloading package treebank to /root/nltk_data...\n",
            "[nltk_data]    |   Unzipping corpora/treebank.zip.\n",
            "[nltk_data]    | Downloading package toolbox to /root/nltk_data...\n",
            "[nltk_data]    |   Unzipping corpora/toolbox.zip.\n",
            "[nltk_data]    | Downloading package udhr to /root/nltk_data...\n",
            "[nltk_data]    |   Unzipping corpora/udhr.zip.\n",
            "[nltk_data]    | Downloading package udhr2 to /root/nltk_data...\n",
            "[nltk_data]    |   Unzipping corpora/udhr2.zip.\n",
            "[nltk_data]    | Downloading package unicode_samples to\n",
            "[nltk_data]    |     /root/nltk_data...\n",
            "[nltk_data]    |   Unzipping corpora/unicode_samples.zip.\n",
            "[nltk_data]    | Downloading package webtext to /root/nltk_data...\n",
            "[nltk_data]    |   Unzipping corpora/webtext.zip.\n",
            "[nltk_data]    | Downloading package wordnet to /root/nltk_data...\n",
            "[nltk_data]    |   Unzipping corpora/wordnet.zip.\n",
            "[nltk_data]    | Downloading package wordnet_ic to /root/nltk_data...\n",
            "[nltk_data]    |   Unzipping corpora/wordnet_ic.zip.\n",
            "[nltk_data]    | Downloading package words to /root/nltk_data...\n",
            "[nltk_data]    |   Unzipping corpora/words.zip.\n",
            "[nltk_data]    | Downloading package maxent_treebank_pos_tagger to\n",
            "[nltk_data]    |     /root/nltk_data...\n",
            "[nltk_data]    |   Unzipping taggers/maxent_treebank_pos_tagger.zip.\n",
            "[nltk_data]    | Downloading package maxent_ne_chunker to\n",
            "[nltk_data]    |     /root/nltk_data...\n",
            "[nltk_data]    |   Unzipping chunkers/maxent_ne_chunker.zip.\n",
            "[nltk_data]    | Downloading package universal_tagset to\n",
            "[nltk_data]    |     /root/nltk_data...\n",
            "[nltk_data]    |   Unzipping taggers/universal_tagset.zip.\n",
            "[nltk_data]    | Downloading package punkt to /root/nltk_data...\n",
            "[nltk_data]    |   Unzipping tokenizers/punkt.zip.\n",
            "[nltk_data]    | Downloading package book_grammars to\n",
            "[nltk_data]    |     /root/nltk_data...\n",
            "[nltk_data]    |   Unzipping grammars/book_grammars.zip.\n",
            "[nltk_data]    | Downloading package city_database to\n",
            "[nltk_data]    |     /root/nltk_data...\n",
            "[nltk_data]    |   Unzipping corpora/city_database.zip.\n",
            "[nltk_data]    | Downloading package tagsets to /root/nltk_data...\n",
            "[nltk_data]    |   Unzipping help/tagsets.zip.\n",
            "[nltk_data]    | Downloading package panlex_swadesh to\n",
            "[nltk_data]    |     /root/nltk_data...\n",
            "[nltk_data]    | Downloading package averaged_perceptron_tagger to\n",
            "[nltk_data]    |     /root/nltk_data...\n",
            "[nltk_data]    |   Unzipping taggers/averaged_perceptron_tagger.zip.\n",
            "[nltk_data]    | \n",
            "[nltk_data]  Done downloading collection book\n"
          ],
          "name": "stdout"
        },
        {
          "output_type": "execute_result",
          "data": {
            "text/plain": [
              "True"
            ]
          },
          "metadata": {
            "tags": []
          },
          "execution_count": 2
        }
      ]
    },
    {
      "cell_type": "code",
      "metadata": {
        "colab": {
          "base_uri": "https://localhost:8080/"
        },
        "id": "ptAWek8OR4mD",
        "outputId": "2fcbd4f5-a922-4e8f-9892-ab5c05eaf2a1"
      },
      "source": [
        "from nltk.book import *"
      ],
      "execution_count": 3,
      "outputs": [
        {
          "output_type": "stream",
          "text": [
            "*** Introductory Examples for the NLTK Book ***\n",
            "Loading text1, ..., text9 and sent1, ..., sent9\n",
            "Type the name of the text or sentence to view it.\n",
            "Type: 'texts()' or 'sents()' to list the materials.\n",
            "text1: Moby Dick by Herman Melville 1851\n",
            "text2: Sense and Sensibility by Jane Austen 1811\n",
            "text3: The Book of Genesis\n",
            "text4: Inaugural Address Corpus\n",
            "text5: Chat Corpus\n",
            "text6: Monty Python and the Holy Grail\n",
            "text7: Wall Street Journal\n",
            "text8: Personals Corpus\n",
            "text9: The Man Who Was Thursday by G . K . Chesterton 1908\n"
          ],
          "name": "stdout"
        }
      ]
    },
    {
      "cell_type": "code",
      "metadata": {
        "colab": {
          "base_uri": "https://localhost:8080/"
        },
        "id": "f9ME3IRCR4oW",
        "outputId": "ffcddce4-1c79-435c-cd42-63e4e559f7fe"
      },
      "source": [
        "print(text1)"
      ],
      "execution_count": 4,
      "outputs": [
        {
          "output_type": "stream",
          "text": [
            "<Text: Moby Dick by Herman Melville 1851>\n"
          ],
          "name": "stdout"
        }
      ]
    },
    {
      "cell_type": "markdown",
      "metadata": {
        "id": "SRF_92b8ZEzo"
      },
      "source": [
        "Concordance"
      ]
    },
    {
      "cell_type": "code",
      "metadata": {
        "colab": {
          "base_uri": "https://localhost:8080/"
        },
        "id": "il5G_-sDS42o",
        "outputId": "7b5c238f-90b4-4a8a-9455-aa14d4977531"
      },
      "source": [
        "# A concordance view shows us every occurrence of a given word, together with some context. \n",
        "text1.concordance(\"monstrous\")"
      ],
      "execution_count": 5,
      "outputs": [
        {
          "output_type": "stream",
          "text": [
            "Displaying 11 of 11 matches:\n",
            "ong the former , one was of a most monstrous size . ... This came towards us , \n",
            "ON OF THE PSALMS . \" Touching that monstrous bulk of the whale or ork we have r\n",
            "ll over with a heathenish array of monstrous clubs and spears . Some were thick\n",
            "d as you gazed , and wondered what monstrous cannibal and savage could ever hav\n",
            "that has survived the flood ; most monstrous and most mountainous ! That Himmal\n",
            "they might scout at Moby Dick as a monstrous fable , or still worse and more de\n",
            "th of Radney .'\" CHAPTER 55 Of the Monstrous Pictures of Whales . I shall ere l\n",
            "ing Scenes . In connexion with the monstrous pictures of whales , I am strongly\n",
            "ere to enter upon those still more monstrous stories of them which are to be fo\n",
            "ght have been rummaged out of this monstrous cabinet there is no telling . But \n",
            "of Whale - Bones ; for Whales of a monstrous size are oftentimes cast up dead u\n"
          ],
          "name": "stdout"
        }
      ]
    },
    {
      "cell_type": "markdown",
      "metadata": {
        "id": "ef7PU5rvZG5k"
      },
      "source": [
        "Similar"
      ]
    },
    {
      "cell_type": "code",
      "metadata": {
        "colab": {
          "base_uri": "https://localhost:8080/"
        },
        "id": "pcfMTEomR4qz",
        "outputId": "5c4487e6-c3c8-4943-d7f7-8908bc697815"
      },
      "source": [
        "text1.similar(\"monstrous\")"
      ],
      "execution_count": 6,
      "outputs": [
        {
          "output_type": "stream",
          "text": [
            "true contemptible christian abundant few part mean careful puzzled\n",
            "mystifying passing curious loving wise doleful gamesome singular\n",
            "delightfully perilous fearless\n"
          ],
          "name": "stdout"
        }
      ]
    },
    {
      "cell_type": "markdown",
      "metadata": {
        "id": "VUC44WE7ZKOf"
      },
      "source": [
        "Dispersion Plot"
      ]
    },
    {
      "cell_type": "code",
      "metadata": {
        "colab": {
          "base_uri": "https://localhost:8080/",
          "height": 312
        },
        "id": "KoeDMWYDR4tX",
        "outputId": "2a188ce4-5f7f-45f8-bee1-fefc32ce273b"
      },
      "source": [
        "print(text4)\n",
        "# we can also determine the location of a word in the text: how many words from the beginning it appears. \n",
        "# This positional information can be displayed using a dispersion plot. \n",
        "# Each stripe represents an instance of a word, and each row represents the entire text\n",
        "text4.dispersion_plot([\"citizens\", \"democracy\", \"freedom\", \"duties\", \"America\"])"
      ],
      "execution_count": 7,
      "outputs": [
        {
          "output_type": "stream",
          "text": [
            "<Text: Inaugural Address Corpus>\n"
          ],
          "name": "stdout"
        },
        {
          "output_type": "display_data",
          "data": {
            "image/png": "[encoded data removed]",
            "text/plain": [
              "<Figure size 432x288 with 1 Axes>"
            ]
          },
          "metadata": {
            "tags": [],
            "needs_background": "light"
          }
        }
      ]
    },
    {
      "cell_type": "markdown",
      "metadata": {
        "id": "0eEBE1ZGZMoE"
      },
      "source": [
        "Length and set"
      ]
    },
    {
      "cell_type": "code",
      "metadata": {
        "colab": {
          "base_uri": "https://localhost:8080/"
        },
        "id": "DY_77MHHR4vv",
        "outputId": "97c15c65-1ac6-4df7-b9f7-68e99ff302e8"
      },
      "source": [
        "# finding out the number of tokens or words from start to finish\n",
        "len(text1)"
      ],
      "execution_count": 8,
      "outputs": [
        {
          "output_type": "execute_result",
          "data": {
            "text/plain": [
              "260819"
            ]
          },
          "metadata": {
            "tags": []
          },
          "execution_count": 8
        }
      ]
    },
    {
      "cell_type": "code",
      "metadata": {
        "colab": {
          "base_uri": "https://localhost:8080/"
        },
        "id": "qD8_aAMGR4yQ",
        "outputId": "4db8edbe-4544-4ec7-f395-e95ce8c9ac32"
      },
      "source": [
        "# set- unique items, list- can be unique or not.\n",
        "# unique words from text1\n",
        "set(text1)"
      ],
      "execution_count": 9,
      "outputs": [
        {
          "output_type": "execute_result",
          "data": {
            "text/plain": [
              "{'PIP',\n",
              " 'professors',\n",
              " 'Touching',\n",
              " 'molifier',\n",
              " 'thermometer',\n",
              " 'volume',\n",
              " 'provident',\n",
              " 'brags',\n",
              " 'wool',\n",
              " 'wat',\n",
              " 'WORLD',\n",
              " 'commended',\n",
              " 'swept',\n",
              " 'rickety',\n",
              " 'call',\n",
              " 'recovered',\n",
              " 'shout',\n",
              " 'mangles',\n",
              " 'battering',\n",
              " 'snortings',\n",
              " 'ragged',\n",
              " 'clapt',\n",
              " 'TAMBOURINE',\n",
              " 'undervalue',\n",
              " 'questionable',\n",
              " 'weather',\n",
              " 'handsome',\n",
              " 'learn',\n",
              " 'unvitiated',\n",
              " 'snuffing',\n",
              " 'whimsicalities',\n",
              " 'girdle',\n",
              " 'bitin',\n",
              " 'WATCH',\n",
              " 'wind',\n",
              " 'bewildered',\n",
              " 'receiving',\n",
              " 'faced',\n",
              " 'invocation',\n",
              " 'herrings',\n",
              " 'hamlets',\n",
              " 'writer',\n",
              " 'propellers',\n",
              " 'lofty',\n",
              " 'had',\n",
              " 'juices',\n",
              " 'howlings',\n",
              " 'Emboldened',\n",
              " 'choice',\n",
              " 'toiled',\n",
              " 'SMALL',\n",
              " 'grappled',\n",
              " 'STRAPS',\n",
              " 'untold',\n",
              " 'mythologies',\n",
              " 'triumphs',\n",
              " 'stalking',\n",
              " 'individually',\n",
              " 'notched',\n",
              " 'intimate',\n",
              " 'tattooed',\n",
              " 'developments',\n",
              " 'foundling',\n",
              " 'looming',\n",
              " 'drinking',\n",
              " 'lasses',\n",
              " 'Explain',\n",
              " 'Fetch',\n",
              " 'THEY',\n",
              " 'Carrol',\n",
              " 'holy',\n",
              " 'Truth',\n",
              " 'charges',\n",
              " 'LASHINGS',\n",
              " 'restrain',\n",
              " 'wines',\n",
              " 'under',\n",
              " 'intricate',\n",
              " 'thorns',\n",
              " 'borrow',\n",
              " 'sovereign',\n",
              " 'gang',\n",
              " 'Jews',\n",
              " 'inform',\n",
              " 'jammed',\n",
              " 'attendant',\n",
              " 'needful',\n",
              " 'Methinks',\n",
              " 'Testament',\n",
              " 'foal',\n",
              " 'uncompleted',\n",
              " 'Mahomet',\n",
              " 'thoughtless',\n",
              " 'baser',\n",
              " 'arid',\n",
              " 'Charity',\n",
              " 'dimmed',\n",
              " 'salt',\n",
              " 'bounties',\n",
              " 'sprinkled',\n",
              " 'believed',\n",
              " 'Aware',\n",
              " 'thoughted',\n",
              " 'disguise',\n",
              " 'merchant',\n",
              " 'howled',\n",
              " 'brevet',\n",
              " 'invested',\n",
              " 'overrunningly',\n",
              " 'masts',\n",
              " 'bits',\n",
              " 'fatalists',\n",
              " 'zephyr',\n",
              " 'fever',\n",
              " 'Danes',\n",
              " 'epicurean',\n",
              " 'trimmed',\n",
              " 'sheltered',\n",
              " 'mystifications',\n",
              " 'dashing',\n",
              " 'studies',\n",
              " 'family',\n",
              " 'keenest',\n",
              " 'Heading',\n",
              " 'surviving',\n",
              " 'GOLDSMITH',\n",
              " 'wales',\n",
              " 'eager',\n",
              " 'shoots',\n",
              " 'Clootz',\n",
              " 'AUGUST',\n",
              " 'disquietude',\n",
              " 'circumspection',\n",
              " 'righteous',\n",
              " 'glazed',\n",
              " 'creepingly',\n",
              " 'summoning',\n",
              " 'tarpaulins',\n",
              " 'W',\n",
              " 'amazing',\n",
              " 'wrecks',\n",
              " 'latitudes',\n",
              " 'throw',\n",
              " 'irradiate',\n",
              " 'unprovided',\n",
              " 'auxiliary',\n",
              " 'drunkard',\n",
              " 'bellied',\n",
              " 'NOUN',\n",
              " 'wisdom',\n",
              " 'evaporate',\n",
              " 'frenzies',\n",
              " 'rounder',\n",
              " 'crept',\n",
              " 'earnestness',\n",
              " 'Must',\n",
              " 'bailiff',\n",
              " 'plaudits',\n",
              " 'prospects',\n",
              " 'lurks',\n",
              " 'hap',\n",
              " 'holier',\n",
              " 'hippogriff',\n",
              " 'on',\n",
              " 'embarrassed',\n",
              " 'said',\n",
              " 'tasted',\n",
              " 'invest',\n",
              " 'pleasantly',\n",
              " 'stone',\n",
              " 'fights',\n",
              " 'torrid',\n",
              " 'fares',\n",
              " 'limitless',\n",
              " 'BEING',\n",
              " 'intervene',\n",
              " 'truthful',\n",
              " 'spirally',\n",
              " 'jogged',\n",
              " 'primogenitures',\n",
              " 'SNEEZES',\n",
              " 'collecting',\n",
              " 'stand',\n",
              " 'sum',\n",
              " 'description',\n",
              " 'blew',\n",
              " 'pushing',\n",
              " 'broker',\n",
              " 'heroes',\n",
              " 'sail',\n",
              " 'dong',\n",
              " 'organs',\n",
              " 'cindered',\n",
              " 'vagrant',\n",
              " 'Christ',\n",
              " 'peasant',\n",
              " 'NEW',\n",
              " 'canting',\n",
              " 'arrayed',\n",
              " 'leathern',\n",
              " 'unlighted',\n",
              " 'sallies',\n",
              " 'studied',\n",
              " 'couldst',\n",
              " 'helplessly',\n",
              " 'onsets',\n",
              " 'Enderbies',\n",
              " 'sanely',\n",
              " 'Whiteness',\n",
              " 'continuation',\n",
              " 'don',\n",
              " 'enabled',\n",
              " 'projecting',\n",
              " 'frightens',\n",
              " 'flexibility',\n",
              " 'steps',\n",
              " 'cartload',\n",
              " 'wights',\n",
              " 'prisoners',\n",
              " 'HEARS',\n",
              " 'early',\n",
              " 'Grace',\n",
              " 'evenly',\n",
              " 'dark',\n",
              " 'performances',\n",
              " 'volition',\n",
              " 'somerset',\n",
              " 'paces',\n",
              " 'impregnable',\n",
              " 'barbaric',\n",
              " '28',\n",
              " 'noticed',\n",
              " 'merry',\n",
              " 'pitchiest',\n",
              " 'falsely',\n",
              " 'superstitious',\n",
              " 'Striking',\n",
              " 'rifled',\n",
              " 'wintry',\n",
              " 'WAL',\n",
              " 'expired',\n",
              " 'shabbily',\n",
              " 'pomatum',\n",
              " 'devoured',\n",
              " 'shoeless',\n",
              " 'written',\n",
              " 'hiss',\n",
              " 'ship',\n",
              " 'crafty',\n",
              " 'flues',\n",
              " 'exhilarating',\n",
              " 'principles',\n",
              " 'stander',\n",
              " 'computed',\n",
              " 'separate',\n",
              " 'smallest',\n",
              " 'wheeling',\n",
              " 'impregnated',\n",
              " 'Malays',\n",
              " 'finds',\n",
              " 'Man',\n",
              " 'triangles',\n",
              " 'turning',\n",
              " 'justified',\n",
              " 'eyelids',\n",
              " 'concurring',\n",
              " 'GRIMLY',\n",
              " 'based',\n",
              " 'Mt',\n",
              " 'peddlin',\n",
              " 'responsible',\n",
              " 'endure',\n",
              " 'Insurance',\n",
              " 'impetus',\n",
              " 'characterizing',\n",
              " 'presuming',\n",
              " 'intolerableness',\n",
              " 'soldiers',\n",
              " 'cheerfulness',\n",
              " 'gaping',\n",
              " 'statue',\n",
              " 'good',\n",
              " 'Colnett',\n",
              " 'Aristotle',\n",
              " 'insulting',\n",
              " 'GO',\n",
              " 'passively',\n",
              " 'mutiny',\n",
              " 'insatiate',\n",
              " 'horizons',\n",
              " 'creating',\n",
              " 'Gothic',\n",
              " 'sailors',\n",
              " 'threads',\n",
              " 'everything',\n",
              " 'tenpin',\n",
              " 'prose',\n",
              " 'signal',\n",
              " 'roofed',\n",
              " 'togged',\n",
              " 'cloudless',\n",
              " 'grains',\n",
              " 'corals',\n",
              " 'precaution',\n",
              " 'dowers',\n",
              " 'boarded',\n",
              " 'Clay',\n",
              " 'columns',\n",
              " 'passer',\n",
              " 'swear',\n",
              " 'close',\n",
              " 'halyards',\n",
              " 'prefigured',\n",
              " 'impelled',\n",
              " 'le',\n",
              " 'lantern',\n",
              " 'quailed',\n",
              " 'Durand',\n",
              " 'Son',\n",
              " 'guess',\n",
              " 'Tranque',\n",
              " 'principle',\n",
              " 'CHORUS',\n",
              " 'audible',\n",
              " 'Rinaldo',\n",
              " 'Whitehall',\n",
              " 'protection',\n",
              " 'put',\n",
              " 'asphaltic',\n",
              " 'wail',\n",
              " 'attraction',\n",
              " 'insure',\n",
              " 'active',\n",
              " 'locksmith',\n",
              " 'loop',\n",
              " 'generated',\n",
              " 'funereal',\n",
              " 'bitters',\n",
              " 'loosely',\n",
              " 'sunsets',\n",
              " 'Juba',\n",
              " 'procedures',\n",
              " 'quicksilver',\n",
              " 'washes',\n",
              " 'excessive',\n",
              " 'fast',\n",
              " 'palpableness',\n",
              " 'Several',\n",
              " 'conventional',\n",
              " 'slavery',\n",
              " 'assuring',\n",
              " 'assures',\n",
              " 'pod',\n",
              " 'extinction',\n",
              " 'mast',\n",
              " 'kings',\n",
              " 'interrupted',\n",
              " 'flounders',\n",
              " 'hopefulness',\n",
              " 'buckler',\n",
              " 'file',\n",
              " 'swindle',\n",
              " 'unpleasing',\n",
              " 'kindle',\n",
              " 'chiefly',\n",
              " 'renewed',\n",
              " 'Mysticetus',\n",
              " 'blinds',\n",
              " 'relieving',\n",
              " 'hump',\n",
              " 'curiousness',\n",
              " 'swallow',\n",
              " 'horrible',\n",
              " '!\"',\n",
              " 'Povelson',\n",
              " 'reddening',\n",
              " 'patrician',\n",
              " 'Crew',\n",
              " 'disrated',\n",
              " 'Blacksmith',\n",
              " 'Enter',\n",
              " 'declared',\n",
              " 'discoursing',\n",
              " 'elevation',\n",
              " 'sorrow',\n",
              " 'drowned',\n",
              " 'faculties',\n",
              " 'aunts',\n",
              " 'OATHS',\n",
              " 'sereneness',\n",
              " 'glittered',\n",
              " 'centuries',\n",
              " 'thumb',\n",
              " 'uninjurable',\n",
              " 'amputated',\n",
              " 'lawyers',\n",
              " 'profoundly',\n",
              " 'furnishes',\n",
              " 'grazed',\n",
              " 'expiring',\n",
              " 'HANDS',\n",
              " 'washed',\n",
              " 'rousing',\n",
              " 'allow',\n",
              " 'radical',\n",
              " 'STATES',\n",
              " 'disconnected',\n",
              " 'sheered',\n",
              " 'sage',\n",
              " 'astonishing',\n",
              " 'DEATH',\n",
              " 'Growlands',\n",
              " 'Fourth',\n",
              " 'disdained',\n",
              " 'tumbled',\n",
              " 'platters',\n",
              " 'sucked',\n",
              " 'considering',\n",
              " 'whitened',\n",
              " 'sternward',\n",
              " 'religion',\n",
              " 'ottomans',\n",
              " 'abounding',\n",
              " 'Mammoth',\n",
              " 'cloak',\n",
              " 'incognita',\n",
              " 'travelled',\n",
              " 'unoutgrown',\n",
              " 'caput',\n",
              " 'caw',\n",
              " 'nowadays',\n",
              " 'truth',\n",
              " 'backbone',\n",
              " 'Drat',\n",
              " '3D',\n",
              " 'REPUBLICA',\n",
              " 'overture',\n",
              " 'Unhinge',\n",
              " 'IS',\n",
              " 'FOR',\n",
              " 'placid',\n",
              " 'clothed',\n",
              " 'unexhausted',\n",
              " 'average',\n",
              " 'results',\n",
              " 'stairs',\n",
              " 'drawers',\n",
              " 'Crappo',\n",
              " 'anathemas',\n",
              " '!\\'\"',\n",
              " 'ejaculates',\n",
              " 'father',\n",
              " 'stacking',\n",
              " 'heedfully',\n",
              " 'traverse',\n",
              " '275th',\n",
              " 'overmuch',\n",
              " 'Faith',\n",
              " 'patience',\n",
              " 'swore',\n",
              " 'Swiss',\n",
              " 'appeared',\n",
              " 'affectionately',\n",
              " 'launch',\n",
              " 'Espied',\n",
              " 'superadd',\n",
              " 'rebels',\n",
              " 'attacking',\n",
              " 'unintelligent',\n",
              " 'Harmattans',\n",
              " '85',\n",
              " 'Furthermore',\n",
              " 'hull',\n",
              " 'operates',\n",
              " 'mugs',\n",
              " 'pleases',\n",
              " 'flitted',\n",
              " 'Corresponding',\n",
              " 'caused',\n",
              " 'builded',\n",
              " 'VOYAGES',\n",
              " 'thine',\n",
              " 'invaded',\n",
              " 'Dugongs',\n",
              " 'Bout',\n",
              " 'fleecy',\n",
              " 'unfold',\n",
              " 'pleadings',\n",
              " 'Hallo',\n",
              " 'venture',\n",
              " 'Crack',\n",
              " 'OVER',\n",
              " 'forking',\n",
              " 'messmates',\n",
              " 'echoes',\n",
              " 'urn',\n",
              " 'comets',\n",
              " 'Grief',\n",
              " 'secret',\n",
              " 'During',\n",
              " 'believer',\n",
              " 'Drawing',\n",
              " 'dwarfed',\n",
              " 'guiltiness',\n",
              " 'commanders',\n",
              " 'transferred',\n",
              " 'expect',\n",
              " 'Stood',\n",
              " 'dines',\n",
              " 'imbedded',\n",
              " 'bidden',\n",
              " 'incomplete',\n",
              " 'VOYAGE',\n",
              " 'padded',\n",
              " '5TH',\n",
              " 'Japans',\n",
              " 'Narragansett',\n",
              " 'produced',\n",
              " 'conceded',\n",
              " 'dramatically',\n",
              " 'bumped',\n",
              " 'Sovereign',\n",
              " 'drifts',\n",
              " 'unbent',\n",
              " '120',\n",
              " 'impairing',\n",
              " 'sepulchre',\n",
              " 'cachalot',\n",
              " 'Pass',\n",
              " 'authentic',\n",
              " 'craven',\n",
              " 'unwearied',\n",
              " 'neatness',\n",
              " 'fantastic',\n",
              " 'demanding',\n",
              " 'marvel',\n",
              " 'imperfect',\n",
              " 'Take',\n",
              " 'skilful',\n",
              " 'confabulations',\n",
              " 'remembered',\n",
              " 'pitchpoler',\n",
              " 'girth',\n",
              " 'lamps',\n",
              " 'lettered',\n",
              " 'creative',\n",
              " 'hair',\n",
              " 'rippling',\n",
              " 'billed',\n",
              " 'proffer',\n",
              " 'unwritten',\n",
              " 'flight',\n",
              " 'overwhelming',\n",
              " 'copy',\n",
              " 'Geological',\n",
              " 'suffocated',\n",
              " 'straps',\n",
              " 'belongs',\n",
              " 'whang',\n",
              " 'calamity',\n",
              " 'notes',\n",
              " 'hieroglyphical',\n",
              " 'sword',\n",
              " 'BREAKERS',\n",
              " 'humoredly',\n",
              " 'symbolically',\n",
              " 'Steady',\n",
              " 'mariner',\n",
              " 'sat',\n",
              " 'guests',\n",
              " 'sharing',\n",
              " 'REVENGE',\n",
              " 'watcher',\n",
              " 'icicle',\n",
              " 'crow',\n",
              " 'verbal',\n",
              " 'three',\n",
              " 'vacantly',\n",
              " 'heel',\n",
              " 'indiscriminately',\n",
              " 'abstract',\n",
              " 'cardinals',\n",
              " 'Won',\n",
              " 'systematization',\n",
              " 'Land',\n",
              " 'fishing',\n",
              " 'popularly',\n",
              " 'salutation',\n",
              " 'stepmothers',\n",
              " 'superfluous',\n",
              " 'fritters',\n",
              " 'visitation',\n",
              " 'sinned',\n",
              " 'simultaneous',\n",
              " 'Closing',\n",
              " 'operated',\n",
              " 'equatorial',\n",
              " 'oaths',\n",
              " 'explanatory',\n",
              " 'attained',\n",
              " 'Therefore',\n",
              " 'brindled',\n",
              " 'effaced',\n",
              " 'Plato',\n",
              " 'tilbury',\n",
              " 'invitingly',\n",
              " 'played',\n",
              " 'indeed',\n",
              " 'houseless',\n",
              " 'swathed',\n",
              " 'consecrating',\n",
              " 'Forty',\n",
              " 'hurry',\n",
              " 'casket',\n",
              " 'Crazed',\n",
              " 'spicin',\n",
              " 'spectacle',\n",
              " 'elder',\n",
              " 'bestirred',\n",
              " 'Forecastle',\n",
              " 'Upper',\n",
              " 'roll',\n",
              " 'stamped',\n",
              " 'scrambled',\n",
              " 'Which',\n",
              " 'counterpane',\n",
              " 'waistcoats',\n",
              " 'proportionate',\n",
              " 'rejoinder',\n",
              " 'spasmodically',\n",
              " 'integrity',\n",
              " 'Albicore',\n",
              " 'silks',\n",
              " 'remark',\n",
              " 'Park',\n",
              " 'cone',\n",
              " 'circuit',\n",
              " 'bird',\n",
              " 'irresistible',\n",
              " 'bawl',\n",
              " 'LUCIAN',\n",
              " 'confidence',\n",
              " 'WAY',\n",
              " 'Gam',\n",
              " 'ranged',\n",
              " 'assistance',\n",
              " 'hues',\n",
              " 'Keep',\n",
              " 'brought',\n",
              " 'paid',\n",
              " 'strands',\n",
              " 'fed',\n",
              " 'host',\n",
              " 'Squall',\n",
              " 'effulgences',\n",
              " 'dusting',\n",
              " 'afternoon',\n",
              " 'intensity',\n",
              " 'throne',\n",
              " 'gurglings',\n",
              " 'foretell',\n",
              " 'each',\n",
              " 'salvation',\n",
              " 'spaces',\n",
              " 'opinion',\n",
              " 'unnaturally',\n",
              " 'Wise',\n",
              " 'olden',\n",
              " 'toadstools',\n",
              " 'severest',\n",
              " 'beards',\n",
              " 'javelins',\n",
              " 'sunken',\n",
              " 'perfect',\n",
              " 'crazy',\n",
              " 'Pretty',\n",
              " 'liable',\n",
              " 'invite',\n",
              " 'progeny',\n",
              " 'Blue',\n",
              " 'undetected',\n",
              " 'Jew',\n",
              " 'important',\n",
              " 'expostulations',\n",
              " 'conceal',\n",
              " 'latently',\n",
              " 'grandest',\n",
              " 'laughable',\n",
              " 'contrasting',\n",
              " 'suddenness',\n",
              " 'unintermitted',\n",
              " 'combinedly',\n",
              " 'CETI',\n",
              " '40',\n",
              " 'elapsed',\n",
              " 'illuminated',\n",
              " 'overleap',\n",
              " '3',\n",
              " 'pursuit',\n",
              " 'dog',\n",
              " 'jail',\n",
              " 'Squire',\n",
              " 'laced',\n",
              " 'forerunning',\n",
              " 'chisel',\n",
              " 'wrapt',\n",
              " 'combined',\n",
              " 'surly',\n",
              " 'endeavor',\n",
              " 'crackers',\n",
              " 'luxuriant',\n",
              " 'levelled',\n",
              " 'Elijah',\n",
              " 'redoubted',\n",
              " 'sconces',\n",
              " 'islands',\n",
              " 'practices',\n",
              " 'clothe',\n",
              " 'gaspings',\n",
              " 'hastier',\n",
              " 'borders',\n",
              " 'marketless',\n",
              " 'essence',\n",
              " 'liberation',\n",
              " 'friend',\n",
              " 'mum',\n",
              " 'leagued',\n",
              " 'grazing',\n",
              " 'bitter',\n",
              " 'country',\n",
              " 'whitenesses',\n",
              " 'relics',\n",
              " 'Atlantic',\n",
              " 'Dashing',\n",
              " 'price',\n",
              " 'Europe',\n",
              " 'rack',\n",
              " 'contemplations',\n",
              " 'panniers',\n",
              " 'pencil',\n",
              " 'affording',\n",
              " 'pose',\n",
              " 'cherished',\n",
              " 'dropt',\n",
              " 'sudden',\n",
              " 'emphatically',\n",
              " 'Kant',\n",
              " 'extended',\n",
              " 'hones',\n",
              " 'Planted',\n",
              " 'steadied',\n",
              " 'Hall',\n",
              " 'Heads',\n",
              " 'marred',\n",
              " 'Scriptural',\n",
              " 'passive',\n",
              " 'cascade',\n",
              " 'familiarly',\n",
              " 'acres',\n",
              " 'intelligence',\n",
              " 'unspeakable',\n",
              " 'corresponding',\n",
              " 'squalls',\n",
              " 'Mackinaw',\n",
              " 'rueful',\n",
              " 'hast',\n",
              " 'passiveness',\n",
              " 'centres',\n",
              " 'sorely',\n",
              " 'BREAKWATER',\n",
              " 'settle',\n",
              " 'Out',\n",
              " 'excitement',\n",
              " 'flukes',\n",
              " 'reservoir',\n",
              " 'venison',\n",
              " 'occasions',\n",
              " 'watery',\n",
              " 'surgeons',\n",
              " 'inhale',\n",
              " 'barb',\n",
              " 'tend',\n",
              " 'Killer',\n",
              " 'seizings',\n",
              " 'selves',\n",
              " 'cadence',\n",
              " 'Descending',\n",
              " 'road',\n",
              " 'RED',\n",
              " 'sprawling',\n",
              " 'lest',\n",
              " 'Signs',\n",
              " 'pig',\n",
              " 'valleys',\n",
              " 'gentler',\n",
              " 'pirouetting',\n",
              " 'humorousness',\n",
              " 'unnatural',\n",
              " 'rehearsed',\n",
              " 'supplying',\n",
              " 'Mary',\n",
              " 'toothless',\n",
              " 'concealed',\n",
              " 'imagination',\n",
              " 'enigmatical',\n",
              " 'modern',\n",
              " 'muskets',\n",
              " 'Senor',\n",
              " 'signals',\n",
              " 'Satan',\n",
              " 'wealthiest',\n",
              " 'psalmody',\n",
              " 'Doubts',\n",
              " 'symbols',\n",
              " 'ague',\n",
              " 'belief',\n",
              " 'profoundest',\n",
              " 'unharmed',\n",
              " 'rear',\n",
              " 'sheds',\n",
              " 'Gather',\n",
              " 'gentlemen',\n",
              " 'track',\n",
              " 'crouches',\n",
              " 'Lowering',\n",
              " 'propulsion',\n",
              " 'isolate',\n",
              " 'embellishments',\n",
              " 'flaky',\n",
              " 'heels',\n",
              " 'cracks',\n",
              " 'concentration',\n",
              " 'beholdest',\n",
              " 'warnings',\n",
              " 'American',\n",
              " 'pages',\n",
              " 'Laplander',\n",
              " 'Such',\n",
              " 'moods',\n",
              " 'enlightening',\n",
              " 'ge',\n",
              " 'maned',\n",
              " 'disorderly',\n",
              " 'celled',\n",
              " 'deduction',\n",
              " 'yes',\n",
              " 'elbow',\n",
              " 'practical',\n",
              " 'heed',\n",
              " 'irrevocably',\n",
              " 'pore',\n",
              " 'joosy',\n",
              " 'fiend',\n",
              " 'untimely',\n",
              " 'hardest',\n",
              " 'wrists',\n",
              " 'Labor',\n",
              " 'chipping',\n",
              " 'baling',\n",
              " 'baptism',\n",
              " 'bloodshed',\n",
              " 'mannerly',\n",
              " 'cup',\n",
              " 'theatre',\n",
              " 'hooking',\n",
              " 'committing',\n",
              " 'suitable',\n",
              " 'hurried',\n",
              " 'squitchy',\n",
              " 'camphorated',\n",
              " 'Sabbath',\n",
              " 'programme',\n",
              " 'spokes',\n",
              " 'coals',\n",
              " 'joined',\n",
              " 'cringing',\n",
              " 'Mate',\n",
              " 'ISOLATOES',\n",
              " 'DUODECIMO',\n",
              " 'seignories',\n",
              " 'pasteboard',\n",
              " 'nt',\n",
              " 'pincers',\n",
              " 'japonicas',\n",
              " 'heaving',\n",
              " 'mistiness',\n",
              " 'filers',\n",
              " 'plainly',\n",
              " 'strongly',\n",
              " 'hunch',\n",
              " 'savage',\n",
              " 'exclamations',\n",
              " '?',\n",
              " 'feast',\n",
              " 'brack',\n",
              " 'furrow',\n",
              " 'Bosom',\n",
              " 'unfitted',\n",
              " 'independence',\n",
              " 'gobern',\n",
              " 'surpassed',\n",
              " 'VEIN',\n",
              " 'drawings',\n",
              " 'honesty',\n",
              " 'dining',\n",
              " 'immortals',\n",
              " 'anticipation',\n",
              " 'foreshadowing',\n",
              " '--\"',\n",
              " 'exhaling',\n",
              " 'flannel',\n",
              " 'victor',\n",
              " 'labors',\n",
              " 'marbles',\n",
              " 'Moorish',\n",
              " 'dreamy',\n",
              " 'toder',\n",
              " 'renounce',\n",
              " 'pike',\n",
              " 'eruption',\n",
              " 'maker',\n",
              " 'unobstructed',\n",
              " 'interchange',\n",
              " 'monsters',\n",
              " 'plains',\n",
              " 'scolding',\n",
              " 'shoreless',\n",
              " 'enchanting',\n",
              " 'recurred',\n",
              " 'shows',\n",
              " 'fright',\n",
              " 'cooler',\n",
              " 'sanctity',\n",
              " 'corky',\n",
              " 'vesture',\n",
              " 'triangularly',\n",
              " 'Headed',\n",
              " 'duplicates',\n",
              " 'latter',\n",
              " 'coin',\n",
              " 'leads',\n",
              " 'incompetence',\n",
              " 'problems',\n",
              " '84',\n",
              " 'BRACTON',\n",
              " 'shrinking',\n",
              " 'wants',\n",
              " 'motions',\n",
              " 'irresolution',\n",
              " 'fiftieth',\n",
              " 'patched',\n",
              " 'cashier',\n",
              " 'catastrophe',\n",
              " 'villains',\n",
              " 'families',\n",
              " 'bigness',\n",
              " 'rival',\n",
              " 'supine',\n",
              " 'preparations',\n",
              " 'pile',\n",
              " 'couple',\n",
              " 'clothes',\n",
              " 'tarnishing',\n",
              " 'scratching',\n",
              " 'destitute',\n",
              " 'glory',\n",
              " 'cannibalism',\n",
              " 'spouts',\n",
              " 'ceaseless',\n",
              " 'beer',\n",
              " 'follows',\n",
              " 'honey',\n",
              " 'tost',\n",
              " 'overawing',\n",
              " 'chair',\n",
              " 'Sag',\n",
              " 'undigested',\n",
              " 'Crappoes',\n",
              " 'deceiving',\n",
              " 'answers',\n",
              " 'quarrelsomely',\n",
              " 'Andes',\n",
              " 'dissolved',\n",
              " 'wrinkling',\n",
              " 'replace',\n",
              " 'arrantest',\n",
              " 'tastefully',\n",
              " 'fin',\n",
              " 'reporting',\n",
              " 'unwarped',\n",
              " 'Cod',\n",
              " 'woracious',\n",
              " ';--',\n",
              " 'purpose',\n",
              " 'unceasing',\n",
              " 'Rafters',\n",
              " 'overburdening',\n",
              " 'dolphin',\n",
              " 'preparing',\n",
              " 'splashed',\n",
              " ...}"
            ]
          },
          "metadata": {
            "tags": []
          },
          "execution_count": 9
        }
      ]
    },
    {
      "cell_type": "markdown",
      "metadata": {
        "id": "-LajPJscZQhH"
      },
      "source": [
        "Lexical Richness"
      ]
    },
    {
      "cell_type": "code",
      "metadata": {
        "colab": {
          "base_uri": "https://localhost:8080/"
        },
        "id": "URC7F4UCR402",
        "outputId": "9f30a2cf-72e2-4b20-82dd-d2b5b0e504f5"
      },
      "source": [
        "# lexical richness of the text\n",
        "len(set(text3)) / len(text3)"
      ],
      "execution_count": 10,
      "outputs": [
        {
          "output_type": "execute_result",
          "data": {
            "text/plain": [
              "0.06230453042623537"
            ]
          },
          "metadata": {
            "tags": []
          },
          "execution_count": 10
        }
      ]
    },
    {
      "cell_type": "code",
      "metadata": {
        "colab": {
          "base_uri": "https://localhost:8080/"
        },
        "id": "sz2t0VimR43p",
        "outputId": "9c6a4658-895d-494b-b1b4-896625f858c7"
      },
      "source": [
        "# percentage of lexical richness of text\n",
        "100* (len(set(text3)) / len(text3))"
      ],
      "execution_count": 11,
      "outputs": [
        {
          "output_type": "execute_result",
          "data": {
            "text/plain": [
              "6.230453042623537"
            ]
          },
          "metadata": {
            "tags": []
          },
          "execution_count": 11
        }
      ]
    },
    {
      "cell_type": "code",
      "metadata": {
        "colab": {
          "base_uri": "https://localhost:8080/"
        },
        "id": "tMl_tQyXR46U",
        "outputId": "e76995cc-3fc6-4c87-fa3e-8f09e63c6a88"
      },
      "source": [
        "text1.count('whale')"
      ],
      "execution_count": 12,
      "outputs": [
        {
          "output_type": "execute_result",
          "data": {
            "text/plain": [
              "906"
            ]
          },
          "metadata": {
            "tags": []
          },
          "execution_count": 12
        }
      ]
    },
    {
      "cell_type": "markdown",
      "metadata": {
        "id": "L2l5jyq-ZTa7"
      },
      "source": [
        "Frequency Distribution"
      ]
    },
    {
      "cell_type": "code",
      "metadata": {
        "colab": {
          "base_uri": "https://localhost:8080/"
        },
        "id": "6ePdtLndR486",
        "outputId": "f204c9c9-a468-42bf-fc55-e4ca418ad8b8"
      },
      "source": [
        "fdist1 = FreqDist(text1)\n",
        "fdist1.most_common(50)"
      ],
      "execution_count": 13,
      "outputs": [
        {
          "output_type": "execute_result",
          "data": {
            "text/plain": [
              "[(',', 18713),\n",
              " ('the', 13721),\n",
              " ('.', 6862),\n",
              " ('of', 6536),\n",
              " ('and', 6024),\n",
              " ('a', 4569),\n",
              " ('to', 4542),\n",
              " (';', 4072),\n",
              " ('in', 3916),\n",
              " ('that', 2982),\n",
              " (\"'\", 2684),\n",
              " ('-', 2552),\n",
              " ('his', 2459),\n",
              " ('it', 2209),\n",
              " ('I', 2124),\n",
              " ('s', 1739),\n",
              " ('is', 1695),\n",
              " ('he', 1661),\n",
              " ('with', 1659),\n",
              " ('was', 1632),\n",
              " ('as', 1620),\n",
              " ('\"', 1478),\n",
              " ('all', 1462),\n",
              " ('for', 1414),\n",
              " ('this', 1280),\n",
              " ('!', 1269),\n",
              " ('at', 1231),\n",
              " ('by', 1137),\n",
              " ('but', 1113),\n",
              " ('not', 1103),\n",
              " ('--', 1070),\n",
              " ('him', 1058),\n",
              " ('from', 1052),\n",
              " ('be', 1030),\n",
              " ('on', 1005),\n",
              " ('so', 918),\n",
              " ('whale', 906),\n",
              " ('one', 889),\n",
              " ('you', 841),\n",
              " ('had', 767),\n",
              " ('have', 760),\n",
              " ('there', 715),\n",
              " ('But', 705),\n",
              " ('or', 697),\n",
              " ('were', 680),\n",
              " ('now', 646),\n",
              " ('which', 640),\n",
              " ('?', 637),\n",
              " ('me', 627),\n",
              " ('like', 624)]"
            ]
          },
          "metadata": {
            "tags": []
          },
          "execution_count": 13
        }
      ]
    },
    {
      "cell_type": "markdown",
      "metadata": {
        "id": "i-GdNzDPZWwl"
      },
      "source": [
        "## Some more NLTK operations"
      ]
    },
    {
      "cell_type": "code",
      "metadata": {
        "id": "WlBPNtnoUjoy"
      },
      "source": [
        "from nltk.tokenize import word_tokenize\n",
        "from nltk.text import Text\n",
        "\n",
        "my_string = \"Two plus two is four, minus one that's three — quick maths. Every day man's on the block. Smoke trees. See your girl in the park, that girl is an uckers. When the thing went quack quack quack, your men were ducking! Hold tight Asznee, my brother. He's got a pumpy. Hold tight my man, my guy. He's got a frisbee. I trap, trap, trap on the phone. Moving that cornflakes, rice crispies. Hold tight my girl Whitney.\"\n",
        "tokens = word_tokenize(my_string)"
      ],
      "execution_count": 14,
      "outputs": []
    },
    {
      "cell_type": "code",
      "metadata": {
        "colab": {
          "base_uri": "https://localhost:8080/"
        },
        "id": "BvK1c8MkWAl3",
        "outputId": "a220e789-40b9-43ea-b1e0-61ec48b0d3bb"
      },
      "source": [
        "tokens = [word.lower() for word in tokens]\n",
        "print(tokens)"
      ],
      "execution_count": 15,
      "outputs": [
        {
          "output_type": "stream",
          "text": [
            "['two', 'plus', 'two', 'is', 'four', ',', 'minus', 'one', 'that', \"'s\", 'three', '—', 'quick', 'maths', '.', 'every', 'day', 'man', \"'s\", 'on', 'the', 'block', '.', 'smoke', 'trees', '.', 'see', 'your', 'girl', 'in', 'the', 'park', ',', 'that', 'girl', 'is', 'an', 'uckers', '.', 'when', 'the', 'thing', 'went', 'quack', 'quack', 'quack', ',', 'your', 'men', 'were', 'ducking', '!', 'hold', 'tight', 'asznee', ',', 'my', 'brother', '.', 'he', \"'s\", 'got', 'a', 'pumpy', '.', 'hold', 'tight', 'my', 'man', ',', 'my', 'guy', '.', 'he', \"'s\", 'got', 'a', 'frisbee', '.', 'i', 'trap', ',', 'trap', ',', 'trap', 'on', 'the', 'phone', '.', 'moving', 'that', 'cornflakes', ',', 'rice', 'crispies', '.', 'hold', 'tight', 'my', 'girl', 'whitney', '.']\n"
          ],
          "name": "stdout"
        }
      ]
    },
    {
      "cell_type": "code",
      "metadata": {
        "colab": {
          "base_uri": "https://localhost:8080/"
        },
        "id": "QBBm6PWeV9uz",
        "outputId": "c3466964-21dd-42bd-c454-01e7298427f5"
      },
      "source": [
        "tokens[:5]"
      ],
      "execution_count": 16,
      "outputs": [
        {
          "output_type": "execute_result",
          "data": {
            "text/plain": [
              "['two', 'plus', 'two', 'is', 'four']"
            ]
          },
          "metadata": {
            "tags": []
          },
          "execution_count": 16
        }
      ]
    },
    {
      "cell_type": "code",
      "metadata": {
        "id": "vK9xbctfWGPT"
      },
      "source": [
        "t = Text(tokens)"
      ],
      "execution_count": 17,
      "outputs": []
    },
    {
      "cell_type": "code",
      "metadata": {
        "colab": {
          "base_uri": "https://localhost:8080/",
          "height": 298
        },
        "id": "Vn67N_ipV7Nm",
        "outputId": "268b951e-359e-4743-934a-6e4abe327560"
      },
      "source": [
        "t.plot(20) # plots 20 most common tokens"
      ],
      "execution_count": 18,
      "outputs": [
        {
          "output_type": "display_data",
          "data": {
            "image/png": "[encoded data removed]",
            "text/plain": [
              "<Figure size 432x288 with 1 Axes>"
            ]
          },
          "metadata": {
            "tags": [],
            "needs_background": "light"
          }
        }
      ]
    },
    {
      "cell_type": "code",
      "metadata": {
        "colab": {
          "base_uri": "https://localhost:8080/"
        },
        "id": "UaQ3QDNuUjrS",
        "outputId": "88ead09b-318f-4908-e210-0cb8038340ca"
      },
      "source": [
        "t.vocab()"
      ],
      "execution_count": 19,
      "outputs": [
        {
          "output_type": "execute_result",
          "data": {
            "text/plain": [
              "FreqDist({'!': 1,\n",
              "          \"'s\": 4,\n",
              "          ',': 8,\n",
              "          '.': 11,\n",
              "          'a': 2,\n",
              "          'an': 1,\n",
              "          'asznee': 1,\n",
              "          'block': 1,\n",
              "          'brother': 1,\n",
              "          'cornflakes': 1,\n",
              "          'crispies': 1,\n",
              "          'day': 1,\n",
              "          'ducking': 1,\n",
              "          'every': 1,\n",
              "          'four': 1,\n",
              "          'frisbee': 1,\n",
              "          'girl': 3,\n",
              "          'got': 2,\n",
              "          'guy': 1,\n",
              "          'he': 2,\n",
              "          'hold': 3,\n",
              "          'i': 1,\n",
              "          'in': 1,\n",
              "          'is': 2,\n",
              "          'man': 2,\n",
              "          'maths': 1,\n",
              "          'men': 1,\n",
              "          'minus': 1,\n",
              "          'moving': 1,\n",
              "          'my': 4,\n",
              "          'on': 2,\n",
              "          'one': 1,\n",
              "          'park': 1,\n",
              "          'phone': 1,\n",
              "          'plus': 1,\n",
              "          'pumpy': 1,\n",
              "          'quack': 3,\n",
              "          'quick': 1,\n",
              "          'rice': 1,\n",
              "          'see': 1,\n",
              "          'smoke': 1,\n",
              "          'that': 3,\n",
              "          'the': 4,\n",
              "          'thing': 1,\n",
              "          'three': 1,\n",
              "          'tight': 3,\n",
              "          'trap': 3,\n",
              "          'trees': 1,\n",
              "          'two': 2,\n",
              "          'uckers': 1,\n",
              "          'went': 1,\n",
              "          'were': 1,\n",
              "          'when': 1,\n",
              "          'whitney': 1,\n",
              "          'your': 2,\n",
              "          '—': 1})"
            ]
          },
          "metadata": {
            "tags": []
          },
          "execution_count": 19
        }
      ]
    },
    {
      "cell_type": "markdown",
      "metadata": {
        "id": "fCWH_hxAZnd1"
      },
      "source": [
        "### Some NLP operations- stemming, lemmatization, stopword removal etc."
      ]
    },
    {
      "cell_type": "code",
      "metadata": {
        "colab": {
          "base_uri": "https://localhost:8080/"
        },
        "id": "flihbKlL-Nr_",
        "outputId": "fe58c44a-7cb9-4213-fd66-a9063655da65"
      },
      "source": [
        "# downloads sample twitter dataset. uncomment the line below if running on a local machine.\n",
        "nltk.download('twitter_samples')"
      ],
      "execution_count": 20,
      "outputs": [
        {
          "output_type": "stream",
          "text": [
            "[nltk_data] Downloading package twitter_samples to /root/nltk_data...\n",
            "[nltk_data]   Unzipping corpora/twitter_samples.zip.\n"
          ],
          "name": "stdout"
        },
        {
          "output_type": "execute_result",
          "data": {
            "text/plain": [
              "True"
            ]
          },
          "metadata": {
            "tags": []
          },
          "execution_count": 20
        }
      ]
    },
    {
      "cell_type": "code",
      "metadata": {
        "id": "UU459X0Y-QKe"
      },
      "source": [
        "# select the set of positive and negative tweets\n",
        "all_positive_tweets = twitter_samples.strings('positive_tweets.json')\n",
        "all_negative_tweets = twitter_samples.strings('negative_tweets.json')"
      ],
      "execution_count": 21,
      "outputs": []
    },
    {
      "cell_type": "code",
      "metadata": {
        "colab": {
          "base_uri": "https://localhost:8080/"
        },
        "id": "85yP7HvU-UB8",
        "outputId": "af35e9b2-6db3-4640-8b75-4c8a2ff27bd0"
      },
      "source": [
        "print('Number of positive tweets: ', len(all_positive_tweets))\n",
        "print('Number of negative tweets: ', len(all_negative_tweets))\n",
        "\n",
        "print('\\nThe type of all_positive_tweets is: ', type(all_positive_tweets))\n",
        "print('The type of a tweet entry is: ', type(all_negative_tweets[0]))"
      ],
      "execution_count": 22,
      "outputs": [
        {
          "output_type": "stream",
          "text": [
            "Number of positive tweets:  5000\n",
            "Number of negative tweets:  5000\n",
            "\n",
            "The type of all_positive_tweets is:  <class 'list'>\n",
            "The type of a tweet entry is:  <class 'str'>\n"
          ],
          "name": "stdout"
        }
      ]
    },
    {
      "cell_type": "code",
      "metadata": {
        "colab": {
          "base_uri": "https://localhost:8080/"
        },
        "id": "80EjOOQZ-h57",
        "outputId": "25d48c8f-a162-4f7f-b24e-53a4b457e14e"
      },
      "source": [
        "# Our selected sample. Complex enough to exemplify each step\n",
        "tweet = all_positive_tweets[2277]\n",
        "print(tweet)"
      ],
      "execution_count": 23,
      "outputs": [
        {
          "output_type": "stream",
          "text": [
            "My beautiful sunflowers on a sunny Friday morning off :) #sunflowers #favourites #happy #Friday off… https://t.co/3tfYom0N1i\n"
          ],
          "name": "stdout"
        }
      ]
    },
    {
      "cell_type": "code",
      "metadata": {
        "colab": {
          "base_uri": "https://localhost:8080/"
        },
        "id": "Zx8iIPhc-r9j",
        "outputId": "5a7aae11-6d58-40f3-87a8-c0b43a8ce4d1"
      },
      "source": [
        "# download the stopwords from NLTK\n",
        "nltk.download('stopwords')"
      ],
      "execution_count": 24,
      "outputs": [
        {
          "output_type": "stream",
          "text": [
            "[nltk_data] Downloading package stopwords to /root/nltk_data...\n",
            "[nltk_data]   Package stopwords is already up-to-date!\n"
          ],
          "name": "stdout"
        },
        {
          "output_type": "execute_result",
          "data": {
            "text/plain": [
              "True"
            ]
          },
          "metadata": {
            "tags": []
          },
          "execution_count": 24
        }
      ]
    },
    {
      "cell_type": "code",
      "metadata": {
        "colab": {
          "base_uri": "https://localhost:8080/"
        },
        "id": "uDqrkiU3-uJ8",
        "outputId": "052393b1-2c66-4431-822c-7d725a0866ee"
      },
      "source": [
        "import re                                  # library for regular expression operations\n",
        "import string                              # for string operations\n",
        "\n",
        "from nltk.corpus import stopwords          # module for stop words that come with NLTK\n",
        "from nltk.stem import PorterStemmer        # module for stemming\n",
        "from nltk.tokenize import TweetTokenizer   # module for tokenizing strings\n",
        "from nltk.stem import WordNetLemmatizer\n",
        "nltk.download('wordnet')"
      ],
      "execution_count": 25,
      "outputs": [
        {
          "output_type": "stream",
          "text": [
            "[nltk_data] Downloading package wordnet to /root/nltk_data...\n",
            "[nltk_data]   Package wordnet is already up-to-date!\n"
          ],
          "name": "stdout"
        },
        {
          "output_type": "execute_result",
          "data": {
            "text/plain": [
              "True"
            ]
          },
          "metadata": {
            "tags": []
          },
          "execution_count": 25
        }
      ]
    },
    {
      "cell_type": "code",
      "metadata": {
        "colab": {
          "base_uri": "https://localhost:8080/"
        },
        "id": "bPzhKKZA-zA8",
        "outputId": "c1708707-b7de-4e99-f9b3-3cbe05f25a9c"
      },
      "source": [
        "tweet= \"RT @ajay My beautiful sunflowers on a sunny Friday morning off :) #sunflowers #favourites #happy #Friday off… https://t.co/3tfYom0N1i\"\n",
        "\n",
        "# remove old style retweet text \"RT\"\n",
        "tweet2 = re.sub(r'^RT[\\s]+', '', tweet)\n",
        "\n",
        "# remove hyperlinks\n",
        "tweet2 = re.sub(r'https?:\\/\\/.*[\\r\\n]*', '', tweet2)\n",
        "\n",
        "# remove hashtags\n",
        "# only removing the hash # sign from the word\n",
        "tweet2 = re.sub(r'#', '', tweet2)\n",
        "\n",
        "print(tweet2)"
      ],
      "execution_count": 26,
      "outputs": [
        {
          "output_type": "stream",
          "text": [
            "@ajay My beautiful sunflowers on a sunny Friday morning off :) sunflowers favourites happy Friday off… \n"
          ],
          "name": "stdout"
        }
      ]
    },
    {
      "cell_type": "code",
      "metadata": {
        "colab": {
          "base_uri": "https://localhost:8080/"
        },
        "id": "DrInyzcW-5Tf",
        "outputId": "bc1224c5-006c-4ca6-bc2d-b537ee657511"
      },
      "source": [
        "# instantiate tokenizer class\n",
        "tokenizer = TweetTokenizer(preserve_case=False, strip_handles=True, reduce_len=True)\n",
        "\n",
        "# tokenize tweets\n",
        "tweet_tokens = tokenizer.tokenize(tweet2)\n",
        "\n",
        "print('Tokenized string:')\n",
        "print(tweet_tokens)"
      ],
      "execution_count": 27,
      "outputs": [
        {
          "output_type": "stream",
          "text": [
            "Tokenized string:\n",
            "['my', 'beautiful', 'sunflowers', 'on', 'a', 'sunny', 'friday', 'morning', 'off', ':)', 'sunflowers', 'favourites', 'happy', 'friday', 'off', '…']\n"
          ],
          "name": "stdout"
        }
      ]
    },
    {
      "cell_type": "code",
      "metadata": {
        "colab": {
          "base_uri": "https://localhost:8080/"
        },
        "id": "XQYFeAlz_p5j",
        "outputId": "7f979c6f-e3d5-463d-b13d-633ed58ce56b"
      },
      "source": [
        "#Import the english stop words list from NLTK\n",
        "stopwords_english = stopwords.words('english') \n",
        "\n",
        "print('Stop words\\n')\n",
        "print(stopwords_english)\n",
        "\n",
        "print('\\nPunctuation\\n')\n",
        "print(string.punctuation)"
      ],
      "execution_count": 28,
      "outputs": [
        {
          "output_type": "stream",
          "text": [
            "Stop words\n",
            "\n",
            "['i', 'me', 'my', 'myself', 'we', 'our', 'ours', 'ourselves', 'you', \"you're\", \"you've\", \"you'll\", \"you'd\", 'your', 'yours', 'yourself', 'yourselves', 'he', 'him', 'his', 'himself', 'she', \"she's\", 'her', 'hers', 'herself', 'it', \"it's\", 'its', 'itself', 'they', 'them', 'their', 'theirs', 'themselves', 'what', 'which', 'who', 'whom', 'this', 'that', \"that'll\", 'these', 'those', 'am', 'is', 'are', 'was', 'were', 'be', 'been', 'being', 'have', 'has', 'had', 'having', 'do', 'does', 'did', 'doing', 'a', 'an', 'the', 'and', 'but', 'if', 'or', 'because', 'as', 'until', 'while', 'of', 'at', 'by', 'for', 'with', 'about', 'against', 'between', 'into', 'through', 'during', 'before', 'after', 'above', 'below', 'to', 'from', 'up', 'down', 'in', 'out', 'on', 'off', 'over', 'under', 'again', 'further', 'then', 'once', 'here', 'there', 'when', 'where', 'why', 'how', 'all', 'any', 'both', 'each', 'few', 'more', 'most', 'other', 'some', 'such', 'no', 'nor', 'not', 'only', 'own', 'same', 'so', 'than', 'too', 'very', 's', 't', 'can', 'will', 'just', 'don', \"don't\", 'should', \"should've\", 'now', 'd', 'll', 'm', 'o', 're', 've', 'y', 'ain', 'aren', \"aren't\", 'couldn', \"couldn't\", 'didn', \"didn't\", 'doesn', \"doesn't\", 'hadn', \"hadn't\", 'hasn', \"hasn't\", 'haven', \"haven't\", 'isn', \"isn't\", 'ma', 'mightn', \"mightn't\", 'mustn', \"mustn't\", 'needn', \"needn't\", 'shan', \"shan't\", 'shouldn', \"shouldn't\", 'wasn', \"wasn't\", 'weren', \"weren't\", 'won', \"won't\", 'wouldn', \"wouldn't\"]\n",
            "\n",
            "Punctuation\n",
            "\n",
            "!\"#$%&'()*+,-./:;<=>?@[\\]^_`{|}~\n"
          ],
          "name": "stdout"
        }
      ]
    },
    {
      "cell_type": "code",
      "metadata": {
        "colab": {
          "base_uri": "https://localhost:8080/"
        },
        "id": "jYJlBvtrADOI",
        "outputId": "8fb44ea3-da19-48b7-c471-5b86c0bbf093"
      },
      "source": [
        "print('tweet tokens')\n",
        "print(tweet_tokens)\n",
        "\n",
        "tweets_clean = []\n",
        "\n",
        "for word in tweet_tokens: # Go through every word in your tokens list\n",
        "    if (word not in stopwords_english and  # remove stopwords\n",
        "        word not in string.punctuation):  # remove punctuation\n",
        "        tweets_clean.append(word)\n",
        "\n",
        "print('\\nremoved stop words and punctuation:')\n",
        "print(tweets_clean)"
      ],
      "execution_count": 29,
      "outputs": [
        {
          "output_type": "stream",
          "text": [
            "tweet tokens\n",
            "['my', 'beautiful', 'sunflowers', 'on', 'a', 'sunny', 'friday', 'morning', 'off', ':)', 'sunflowers', 'favourites', 'happy', 'friday', 'off', '…']\n",
            "\n",
            "removed stop words and punctuation:\n",
            "['beautiful', 'sunflowers', 'sunny', 'friday', 'morning', ':)', 'sunflowers', 'favourites', 'happy', 'friday', '…']\n"
          ],
          "name": "stdout"
        }
      ]
    },
    {
      "cell_type": "code",
      "metadata": {
        "colab": {
          "base_uri": "https://localhost:8080/"
        },
        "id": "OuztgWLMANP4",
        "outputId": "1c9477e9-b2fb-4d07-d850-5d5f50cefde4"
      },
      "source": [
        "# Instantiate stemming class\n",
        "stemmer = PorterStemmer() \n",
        "\n",
        "print('tokens after stopword and punctuation removal')\n",
        "print(tweets_clean)\n",
        "\n",
        "# Create an empty list to store the stems\n",
        "tweets_stem = [] \n",
        "\n",
        "for word in tweets_clean:\n",
        "    stem_word = stemmer.stem(word)  # stemming word\n",
        "    tweets_stem.append(stem_word)  # append to the list\n",
        "\n",
        "print('\\nstemmed words:')\n",
        "print(tweets_stem)"
      ],
      "execution_count": 30,
      "outputs": [
        {
          "output_type": "stream",
          "text": [
            "tokens after stopword and punctuation removal\n",
            "['beautiful', 'sunflowers', 'sunny', 'friday', 'morning', ':)', 'sunflowers', 'favourites', 'happy', 'friday', '…']\n",
            "\n",
            "stemmed words:\n",
            "['beauti', 'sunflow', 'sunni', 'friday', 'morn', ':)', 'sunflow', 'favourit', 'happi', 'friday', '…']\n"
          ],
          "name": "stdout"
        }
      ]
    },
    {
      "cell_type": "code",
      "metadata": {
        "colab": {
          "base_uri": "https://localhost:8080/"
        },
        "id": "Oj3JNH6eFddi",
        "outputId": "d77abf34-16b0-4f92-c57a-83f86fa39fc4"
      },
      "source": [
        "lemmatizer = WordNetLemmatizer()\n",
        "print('tokens after stopword and punctuation removal')\n",
        "print(tweets_clean)\n",
        "\n",
        "tweets_lemmatized = []\n",
        "\n",
        "for word in tweets_clean: # Go through every word in your tokens list\n",
        "  tweets_lemmatized.append(lemmatizer.lemmatize(word))\n",
        "\n",
        "print('\\nlemmatized words')\n",
        "print(tweets_lemmatized)"
      ],
      "execution_count": 31,
      "outputs": [
        {
          "output_type": "stream",
          "text": [
            "tokens after stopword and punctuation removal\n",
            "['beautiful', 'sunflowers', 'sunny', 'friday', 'morning', ':)', 'sunflowers', 'favourites', 'happy', 'friday', '…']\n",
            "\n",
            "lemmatized words\n",
            "['beautiful', 'sunflower', 'sunny', 'friday', 'morning', ':)', 'sunflower', 'favourite', 'happy', 'friday', '…']\n"
          ],
          "name": "stdout"
        }
      ]
    },
    {
      "cell_type": "code",
      "metadata": {
        "id": "W_s-rSiAPBv2"
      },
      "source": [
        ""
      ],
      "execution_count": 31,
      "outputs": []
    }
  ]
}